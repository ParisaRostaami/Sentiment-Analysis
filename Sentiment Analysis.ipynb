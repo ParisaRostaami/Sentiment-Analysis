{
 "cells": [
  {
   "cell_type": "markdown",
   "metadata": {},
   "source": [
    "<h1>Sentiment Analysis</h1>"
   ]
  },
  {
   "cell_type": "markdown",
   "metadata": {},
   "source": [
    "<h2>1. Preprocessing</h2>"
   ]
  },
  {
   "cell_type": "code",
   "execution_count": 1,
   "metadata": {},
   "outputs": [],
   "source": [
    "import pandas as pd\n",
    "from nltk.corpus import stopwords\n",
    "from nltk.tokenize import word_tokenize\n",
    "from nltk.stem import PorterStemmer\n",
    "from nltk.stem import WordNetLemmatizer\n",
    "from sklearn.model_selection import train_test_split\n",
    "from sklearn.feature_extraction.text import TfidfVectorizer\n",
    "from sklearn.naive_bayes import MultinomialNB\n",
    "from sklearn.linear_model import LogisticRegression\n",
    "from sklearn.metrics import confusion_matrix , accuracy_score , f1_score\n",
    "import warnings\n",
    "warnings.filterwarnings('ignore')"
   ]
  },
  {
   "cell_type": "code",
   "execution_count": 2,
   "metadata": {},
   "outputs": [
    {
     "name": "stdout",
     "output_type": "stream",
     "text": [
      "                                            Sentence  Class  index\n",
      "0  So there is no way for me to plug it in here i...      0      0\n",
      "1                        Good case, Excellent value.      1      1\n",
      "2                             Great for the jawbone.      1      2\n",
      "3  Tied to charger for conversations lasting more...      0      3\n",
      "4                                  The mic is great.      1      4\n"
     ]
    }
   ],
   "source": [
    "amazon = pd.read_csv('amazon_cells_labelled.txt',delimiter='\\t',header=None)\n",
    "amazon.columns = ['Sentence','Class']\n",
    "amazon['index'] = amazon.index\n",
    "\n",
    "columns = ['index','Class', 'Sentence']\n",
    "temp = pd.DataFrame(columns=columns)\n",
    "print(amazon.head())"
   ]
  },
  {
   "cell_type": "code",
   "execution_count": 3,
   "metadata": {},
   "outputs": [
    {
     "name": "stdout",
     "output_type": "stream",
     "text": [
      "                                            Sentence  Class  index\n",
      "0  So there is no way for me to plug it in here i...      0      0\n",
      "1                          Good case Excellent value      1      1\n",
      "2                              Great for the jawbone      1      2\n",
      "3  Tied to charger for conversations lasting more...      0      3\n",
      "4                                   The mic is great      1      4\n"
     ]
    }
   ],
   "source": [
    "amazon['Sentence'] = amazon['Sentence'].str.replace('[^\\w\\s]','')\n",
    "print(amazon.head())"
   ]
  },
  {
   "cell_type": "code",
   "execution_count": 4,
   "metadata": {},
   "outputs": [
    {
     "name": "stdout",
     "output_type": "stream",
     "text": [
      "                                            Sentence  Class  index\n",
      "0  so there is no way for me to plug it in here i...      0      0\n",
      "1                          good case excellent value      1      1\n",
      "2                              great for the jawbone      1      2\n",
      "3  tied to charger for conversations lasting more...      0      3\n",
      "4                                   the mic is great      1      4\n"
     ]
    }
   ],
   "source": [
    "amazon['Sentence'] = amazon['Sentence'].str.lower()\n",
    "print(amazon.head())"
   ]
  },
  {
   "cell_type": "markdown",
   "metadata": {},
   "source": [
    "And to omit extra white spaces pandas str.strip() is used. Of course it's not visible below but if the whole dataset is manually checked the result will be viewed."
   ]
  },
  {
   "cell_type": "code",
   "execution_count": 5,
   "metadata": {},
   "outputs": [
    {
     "name": "stdout",
     "output_type": "stream",
     "text": [
      "                                            Sentence  Class  index\n",
      "0  so there is no way for me to plug it in here i...      0      0\n",
      "1                          good case excellent value      1      1\n",
      "2                              great for the jawbone      1      2\n",
      "3  tied to charger for conversations lasting more...      0      3\n",
      "4                                   the mic is great      1      4\n"
     ]
    }
   ],
   "source": [
    "amazon['Sentence'] = amazon['Sentence'].str.strip()\n",
    "print(amazon.head())"
   ]
  },
  {
   "cell_type": "code",
   "execution_count": 6,
   "metadata": {},
   "outputs": [
    {
     "name": "stdout",
     "output_type": "stream",
     "text": [
      "  index Class                                           Sentence\n",
      "0     0     0                    way plug us unless go converter\n",
      "1     1     1                          good case excellent value\n",
      "2     2     1                                      great jawbone\n",
      "3     3     0  tied charger conversations lasting 45 minutesm...\n",
      "4     4     1                                          mic great\n"
     ]
    }
   ],
   "source": [
    "for index, row in amazon.iterrows():\n",
    "    word_tokens = word_tokenize(row['Sentence'])\n",
    "    filtered_sentence = [w for w in word_tokens if not w in stopwords.words('english')]\n",
    "    temp = temp.append({\"index\": row['index'], \"Class\":  row['Class'],\"Sentence\": \" \".join(filtered_sentence[0:])}, ignore_index=True)\n",
    "amazon = temp\n",
    "temp = pd.DataFrame(columns=columns)\n",
    "print(amazon.head())"
   ]
  },
  {
   "cell_type": "code",
   "execution_count": 7,
   "metadata": {},
   "outputs": [
    {
     "name": "stdout",
     "output_type": "stream",
     "text": [
      "  index Class                                          Sentence\n",
      "0     0     0                     way plug us unless go convert\n",
      "1     1     1                              good case excel valu\n",
      "2     2     1                                      great jawbon\n",
      "3     3     0  tie charger convers last 45 minutesmajor problem\n",
      "4     4     1                                         mic great\n"
     ]
    }
   ],
   "source": [
    "ps = PorterStemmer()\n",
    "\n",
    "for index, row in amazon.iterrows():\n",
    "    word_tokens = word_tokenize(row['Sentence'])\n",
    "    stemmed_sentence = [ps.stem(w) for w in word_tokens]\n",
    "    temp = temp.append({\"index\": row['index'], \"Class\":  row['Class'],\"Sentence\": \" \".join(stemmed_sentence[0:])}, ignore_index=True)\n",
    "amazon = temp\n",
    "temp = pd.DataFrame(columns=columns)\n",
    "print(amazon.head())"
   ]
  },
  {
   "cell_type": "code",
   "execution_count": 8,
   "metadata": {},
   "outputs": [
    {
     "name": "stdout",
     "output_type": "stream",
     "text": [
      "  index Class                                          Sentence\n",
      "0     0     0                      way plug u unless go convert\n",
      "1     1     1                              good case excel valu\n",
      "2     2     1                                      great jawbon\n",
      "3     3     0  tie charger convers last 45 minutesmajor problem\n",
      "4     4     1                                         mic great\n"
     ]
    }
   ],
   "source": [
    "wl = WordNetLemmatizer()\n",
    "\n",
    "for index, row in amazon.iterrows():\n",
    "    word_tokens = word_tokenize(row['Sentence'])\n",
    "    lemmatized_sentence = [wl.lemmatize(w) for w in word_tokens]\n",
    "    temp = temp.append({\"index\": row['index'], \"Class\":  row['Class'],\"Sentence\": \" \".join(lemmatized_sentence[0:])}, ignore_index=True)\n",
    "amazon = temp\n",
    "print(amazon.head())"
   ]
  },
  {
   "cell_type": "markdown",
   "metadata": {},
   "source": [
    "<h2>2. Classification</h2>"
   ]
  },
  {
   "cell_type": "code",
   "execution_count": 9,
   "metadata": {},
   "outputs": [
    {
     "name": "stdout",
     "output_type": "stream",
     "text": [
      "<class 'numpy.ndarray'>\n",
      "<class 'numpy.ndarray'>\n"
     ]
    }
   ],
   "source": [
    "x = amazon['Sentence'].values.astype('U')\n",
    "y = amazon['Class'].values.astype('int32')\n",
    "print(type(x))\n",
    "print(type(y))\n",
    "\n",
    "X_train,X_test,y_train,y_test = train_test_split(x,y,test_size=0.2,random_state=42 )"
   ]
  },
  {
   "cell_type": "code",
   "execution_count": 10,
   "metadata": {},
   "outputs": [],
   "source": [
    "vectorizer = TfidfVectorizer(analyzer='word') \n",
    "X_train_v = vectorizer.fit_transform(X_train)\n",
    "X_test_v = vectorizer.transform(X_test)"
   ]
  },
  {
   "cell_type": "code",
   "execution_count": 11,
   "metadata": {},
   "outputs": [],
   "source": [
    "naive_bayes = MultinomialNB()\n",
    "naive_bayes.fit(X_train_v, y_train)\n",
    "y_pred = naive_bayes.predict(X_test_v)"
   ]
  },
  {
   "cell_type": "code",
   "execution_count": 12,
   "metadata": {},
   "outputs": [],
   "source": [
    "Logistic_Regression = LogisticRegression()\n",
    "Logistic_Regression.fit(X_train_v, y_train)\n",
    "y_pred_2 = Logistic_Regression.predict(X_test_v)"
   ]
  },
  {
   "cell_type": "markdown",
   "metadata": {},
   "source": [
    "<h3>3. Evaluation & Comparison</h3>"
   ]
  },
  {
   "cell_type": "code",
   "execution_count": 13,
   "metadata": {},
   "outputs": [
    {
     "name": "stdout",
     "output_type": "stream",
     "text": [
      "Test Confusion Matrix:\n",
      "[[75 18]\n",
      " [17 90]]\n",
      "Test F1-Score:  0.8372093023255813\n",
      "Test Accuracy:  0.825\n",
      "Test Error:  0.17500000000000004\n"
     ]
    }
   ],
   "source": [
    "print('Test Confusion Matrix:')\n",
    "print(confusion_matrix(y_test,y_pred))\n",
    "print('Test F1-Score: ', f1_score(y_test,y_pred))\n",
    "print('Test Accuracy: ', accuracy_score(y_test,y_pred))\n",
    "print('Test Error: ', 1-accuracy_score(y_test,y_pred))"
   ]
  },
  {
   "cell_type": "markdown",
   "metadata": {},
   "source": [
    "And here are the results obtained from Logistic Regression:"
   ]
  },
  {
   "cell_type": "code",
   "execution_count": 14,
   "metadata": {},
   "outputs": [
    {
     "name": "stdout",
     "output_type": "stream",
     "text": [
      "Test Confusion Matrix:\n",
      "[[78 15]\n",
      " [25 82]]\n",
      "Test F1-Score:  0.8039215686274509\n",
      "Test Accuracy:  0.8\n",
      "Test Error:  0.19999999999999996\n"
     ]
    }
   ],
   "source": [
    "print('Test Confusion Matrix:')\n",
    "print(confusion_matrix(y_test,y_pred_2))\n",
    "print('Test F1-Score: ', f1_score(y_test,y_pred_2))\n",
    "print('Test Accuracy: ', accuracy_score(y_test,y_pred_2))\n",
    "print('Test Error: ', 1-accuracy_score(y_test,y_pred_2))"
   ]
  }
 ],
 "metadata": {
  "kernelspec": {
   "display_name": "Python 3",
   "language": "python",
   "name": "python3"
  },
  "language_info": {
   "codemirror_mode": {
    "name": "ipython",
    "version": 3
   },
   "file_extension": ".py",
   "mimetype": "text/x-python",
   "name": "python",
   "nbconvert_exporter": "python",
   "pygments_lexer": "ipython3",
   "version": "3.9.8"
  }
 },
 "nbformat": 4,
 "nbformat_minor": 2
}
